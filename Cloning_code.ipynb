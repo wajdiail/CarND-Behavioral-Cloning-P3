{
 "cells": [
  {
   "cell_type": "code",
   "execution_count": 1,
   "metadata": {},
   "outputs": [
    {
     "name": "stderr",
     "output_type": "stream",
     "text": [
      "/home/carnd/anaconda3/envs/carnd-term1/lib/python3.5/site-packages/h5py/__init__.py:34: FutureWarning: Conversion of the second argument of issubdtype from `float` to `np.floating` is deprecated. In future, it will be treated as `np.float64 == np.dtype(float).type`.\n",
      "  from ._conv import register_converters as _register_converters\n",
      "Using TensorFlow backend.\n"
     ]
    }
   ],
   "source": [
    "#Importing Dependencies\n",
    "\n",
    "%matplotlib inline\n",
    "import matplotlib.pyplot as plt\n",
    "import matplotlib.image as mpimg\n",
    "import numpy as np\n",
    "import pandas as pd\n",
    "import tensorflow as tf\n",
    "import cv2\n",
    "import glob as glob\n",
    "import csv\n",
    "from keras.models import Sequential \n",
    "from keras.layers import Dense, Flatten, Lambda, Convolution2D, Activation, Cropping2D, Dropout\n",
    "from skimage import transform as tf\n",
    "from sklearn.utils import shuffle\n",
    "from sklearn.model_selection import train_test_split\n",
    "from keras.preprocessing.image import ImageDataGenerator\n",
    "import random\n",
    "\n",
    "\n",
    "    \n",
    "    "
   ]
  },
  {
   "cell_type": "code",
   "execution_count": 2,
   "metadata": {
    "collapsed": true
   },
   "outputs": [],
   "source": [
    "def extract_camera_pos(lines, camera_pos):\n",
    "    \n",
    "    X,y=[],[]\n",
    "    \n",
    "    if camera_pos=='center':\n",
    "        pos=0\n",
    "        correction=0\n",
    "    if camera_pos=='left':\n",
    "        pos=1\n",
    "        correction=0.2\n",
    "    if camera_pos=='right':\n",
    "        pos=2\n",
    "        correction=-0.2\n",
    "        \n",
    "    for i in range(0, len(lines)):\n",
    "        X.append(lines[i][pos])\n",
    "        y.append(float(lines[i][3])+correction)\n",
    "        \n",
    "    return X,y    "
   ]
  },
  {
   "cell_type": "code",
   "execution_count": 3,
   "metadata": {
    "collapsed": true
   },
   "outputs": [],
   "source": [
    "def data_loading():\n",
    "    \n",
    "    with open('./examples/driving_log.csv') as csvfile:\n",
    "        reader = csv.reader(csvfile)\n",
    "        lines = []\n",
    "        next(reader)\n",
    "        for row in reader:\n",
    "            lines.append(row)\n",
    "    \n",
    "    X_center, y_center = extract_camera_pos(lines, camera_pos='center')    \n",
    "    X_left, y_left = extract_camera_pos(lines, camera_pos='left')\n",
    "    X_right, y_right = extract_camera_pos(lines, camera_pos='left')\n",
    "    \n",
    "    #merging all position into single list\n",
    "    X_all, y=[], []\n",
    "    X_all.extend(X_center)\n",
    "    X_all.extend(X_left)\n",
    "    X_all.extend(X_right)\n",
    "    y.extend(y_center)\n",
    "    y.extend(y_left)\n",
    "    y.extend(y_right)\n",
    "    \n",
    "\n",
    "    #modifying the absolute path to relatvie path\n",
    "    #test_img =[]\n",
    "    X=[]\n",
    "    for i in range(len(X_all)):\n",
    "        filename = X_all[i].split('/')[-1]\n",
    "        path = './examples/IMG/'+ filename\n",
    "        X.append(path)\n",
    "        #test_img.append(mpimg.imread(path))\n",
    "        \n",
    "    return X, y"
   ]
  },
  {
   "cell_type": "code",
   "execution_count": 4,
   "metadata": {},
   "outputs": [],
   "source": [
    "X,y = data_loading()  "
   ]
  },
  {
   "cell_type": "code",
   "execution_count": 5,
   "metadata": {
    "collapsed": true
   },
   "outputs": [],
   "source": [
    "X_train, X_valid, y_train, y_valid = train_test_split(X, y, test_size=0.2)"
   ]
  },
  {
   "cell_type": "code",
   "execution_count": 6,
   "metadata": {
    "collapsed": true
   },
   "outputs": [],
   "source": [
    "#x,y=image_augmentation(test_img,y_all)"
   ]
  },
  {
   "cell_type": "code",
   "execution_count": 7,
   "metadata": {
    "collapsed": true
   },
   "outputs": [],
   "source": [
    "def image_augmentation(img_list, steering_angle):\n",
    "    \n",
    "    #Cropping image\n",
    "    crop_img=[]\n",
    "    for i in range(len(img_list)):\n",
    "        crop_img.append(img_list[i][60:140])\n",
    "    \n",
    " \n",
    "        \n",
    "    #Resizing image\n",
    "    resized_img=[]\n",
    "    for i in range(len(crop_img)):\n",
    "        resized_img.append(cv2.resize(crop_img[i],None,fx=0.5, fy=0.5, interpolation = cv2.INTER_CUBIC))\n",
    "    \n",
    "    #Image Sheering\n",
    "    sheared_img=[]\n",
    "    #print(len(steering_angle))\n",
    "    #print(len(resized_img))\n",
    "    \n",
    "    for i in range(0, len(resized_img), 3): \n",
    "        rand_value = round(random.uniform(-1,1),1)\n",
    "        #Create Afine transform\n",
    "        afine_tf = tf.AffineTransform(shear=rand_value)\n",
    "        # Apply transform to image data\n",
    "        resized_img.append(tf.warp(resized_img[i], inverse_map=afine_tf))\n",
    "        steering_angle.append(steering_angle[i])\n",
    "\n",
    "    \n",
    "    y_steer = []\n",
    "    for item in steering_angle:\n",
    "        y_steer.append(float(item))\n",
    "\n",
    "\n",
    "    #Image flipping\n",
    "    X_img = np.array(resized_img)\n",
    "    y_steer =np.array(y_steer)\n",
    "    \n",
    "\n",
    "        \n",
    "    #shuffle(x_img, y_steer)\n",
    "    \n",
    "    for i in range(0, len(X_img), 3):\n",
    "        X_img[i]= np.fliplr(X_img[i])\n",
    "        y_steer[i]= -y_steer[i]\n",
    "                           \n",
    "    return X_img, y_steer"
   ]
  },
  {
   "cell_type": "code",
   "execution_count": null,
   "metadata": {
    "collapsed": true
   },
   "outputs": [],
   "source": []
  },
  {
   "cell_type": "code",
   "execution_count": 8,
   "metadata": {
    "collapsed": true
   },
   "outputs": [],
   "source": [
    "def image_generator(img_path_list, steering_angle, batch_size):\n",
    "    \n",
    "    num_of_samples=len(img_path_list)\n",
    "    \n",
    "    while True:\n",
    "        for offset in range(0, num_of_samples, batch_size):\n",
    "\n",
    "            x_img_batch, y_steer_batch = img_path_list[offset:offset+batch_size],\\\n",
    "                                         steering_angle[offset:offset+batch_size]\n",
    "        \n",
    "            img=[]\n",
    "            \n",
    "            for i in range(len(x_img_batch)):\n",
    "                path = x_img_batch[i]\n",
    "                img.append(mpimg.imread(path))\n",
    "            \n",
    "            X_img, y_steer = image_augmentation(img_list=img, steering_angle = y_steer_batch)\n",
    "                \n",
    "            yield shuffle(X_img, y_steer)\n",
    "        \n",
    "        \n",
    "    "
   ]
  },
  {
   "cell_type": "code",
   "execution_count": 9,
   "metadata": {
    "collapsed": true
   },
   "outputs": [],
   "source": [
    "def train_data_generator(batch_size=128):\n",
    "        return image_generator(img_path_list=X_train, steering_angle=y_train, batch_size=batch_size)\n",
    "\n",
    "def valid_data_generator(batch_size=128):\n",
    "        return image_generator(img_path_list=X_valid, steering_angle=y_valid, batch_size=batch_size,)"
   ]
  },
  {
   "cell_type": "code",
   "execution_count": null,
   "metadata": {
    "collapsed": true
   },
   "outputs": [],
   "source": []
  },
  {
   "cell_type": "code",
   "execution_count": 11,
   "metadata": {},
   "outputs": [
    {
     "name": "stdout",
     "output_type": "stream",
     "text": [
      "Epoch 1/10\n",
      "5/5 [==============================] - 37s - loss: 0.2215 - val_loss: 0.1046\n",
      "Epoch 2/10\n",
      "5/5 [==============================] - 21s - loss: 0.0683 - val_loss: 0.0507\n",
      "Epoch 3/10\n",
      "5/5 [==============================] - 18s - loss: 0.0482 - val_loss: 0.0460\n",
      "Epoch 4/10\n",
      "5/5 [==============================] - 23s - loss: 0.0451 - val_loss: 0.0358\n",
      "Epoch 5/10\n",
      "5/5 [==============================] - 22s - loss: 0.0392 - val_loss: 0.0369\n",
      "Epoch 6/10\n",
      "5/5 [==============================] - 18s - loss: 0.0379 - val_loss: 0.0365\n",
      "Epoch 7/10\n",
      "5/5 [==============================] - 23s - loss: 0.0378 - val_loss: 0.0352\n",
      "Epoch 8/10\n",
      "5/5 [==============================] - 21s - loss: 0.0358 - val_loss: 0.0341\n",
      "Epoch 9/10\n",
      "5/5 [==============================] - 18s - loss: 0.0347 - val_loss: 0.0324\n",
      "Epoch 10/10\n",
      "5/5 [==============================] - 22s - loss: 0.0333 - val_loss: 0.0314\n"
     ]
    }
   ],
   "source": [
    "model = Sequential()\n",
    "model.add(Lambda(lambda x:x/127.5-1.0, input_shape=(40,160,3)))\n",
    "#model.add(Cropping2D(cropping=((70,25),(0,0))))\n",
    "model.add(Convolution2D(24,(5,5), strides=(2,2)))\n",
    "model.add(Activation('elu'))\n",
    "model.add(Convolution2D(36,(5,5),strides=(2,2)))\n",
    "model.add(Activation('elu'))\n",
    "model.add(Convolution2D(48,(5,5)))\n",
    "model.add(Activation('elu'))\n",
    "model.add(Convolution2D(64,(3,3)))\n",
    "model.add(Activation('elu'))\n",
    "model.add(Dropout(0.5))\n",
    "model.add(Flatten())\n",
    "model.add(Dense(100))\n",
    "model.add(Activation('elu'))\n",
    "model.add(Dense(50))\n",
    "model.add(Activation('elu'))\n",
    "model.add(Dense(10))\n",
    "model.add(Activation('elu'))\n",
    "model.add(Dense(1))\n",
    "model.compile(loss='mse', optimizer='adam')\n",
    "\n",
    "model.fit_generator(generator=train_data_generator(2000),\\\n",
    "                    epochs=10, steps_per_epoch =5, \\\n",
    "                    validation_data=valid_data_generator(2000), validation_steps=3)\n",
    "model.save('model.h5')\n",
    "#model.summary()"
   ]
  },
  {
   "cell_type": "code",
   "execution_count": 13,
   "metadata": {},
   "outputs": [
    {
     "name": "stdout",
     "output_type": "stream",
     "text": [
      "Epoch 1/10\n",
      "11/11 [==============================] - 59s - loss: 0.0245 - val_loss: 0.0233\n",
      "Epoch 2/10\n",
      "11/11 [==============================] - 43s - loss: 0.0243 - val_loss: 0.0230\n",
      "Epoch 3/10\n",
      "11/11 [==============================] - 42s - loss: 0.0240 - val_loss: 0.0228\n",
      "Epoch 4/10\n",
      "11/11 [==============================] - 46s - loss: 0.0236 - val_loss: 0.0227\n",
      "Epoch 5/10\n",
      "11/11 [==============================] - 45s - loss: 0.0235 - val_loss: 0.0224\n",
      "Epoch 6/10\n",
      "11/11 [==============================] - 41s - loss: 0.0231 - val_loss: 0.0223\n",
      "Epoch 7/10\n",
      "11/11 [==============================] - 47s - loss: 0.0231 - val_loss: 0.0219\n",
      "Epoch 8/10\n",
      "11/11 [==============================] - 44s - loss: 0.0229 - val_loss: 0.0223\n",
      "Epoch 9/10\n",
      "11/11 [==============================] - 41s - loss: 0.0227 - val_loss: 0.0219\n",
      "Epoch 10/10\n",
      "11/11 [==============================] - 44s - loss: 0.0224 - val_loss: 0.0216\n"
     ]
    }
   ],
   "source": [
    "from keras.models import load_model\n",
    "\n",
    "model= load_model('model.h5')\n",
    "\n",
    "model.fit_generator(generator=train_data_generator(2000),\\\n",
    "                    epochs=10, steps_per_epoch =11, \\\n",
    "                    validation_data=valid_data_generator(2000), validation_steps=3)\n",
    "model.save('model.h5')\n"
   ]
  },
  {
   "cell_type": "markdown",
   "metadata": {
    "collapsed": true
   },
   "source": []
  },
  {
   "cell_type": "code",
   "execution_count": null,
   "metadata": {
    "collapsed": true
   },
   "outputs": [],
   "source": []
  }
 ],
 "metadata": {
  "anaconda-cloud": {},
  "kernelspec": {
   "display_name": "Python 3",
   "language": "python",
   "name": "python3"
  },
  "language_info": {
   "codemirror_mode": {
    "name": "ipython",
    "version": 3
   },
   "file_extension": ".py",
   "mimetype": "text/x-python",
   "name": "python",
   "nbconvert_exporter": "python",
   "pygments_lexer": "ipython3",
   "version": "3.5.4"
  }
 },
 "nbformat": 4,
 "nbformat_minor": 1
}
